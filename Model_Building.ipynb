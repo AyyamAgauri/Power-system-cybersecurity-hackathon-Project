{
 "cells": [
  {
   "cell_type": "code",
   "execution_count": 2,
   "metadata": {},
   "outputs": [],
   "source": [
    "import pandas as pd\n",
    "import numpy as np"
   ]
  },
  {
   "cell_type": "code",
   "execution_count": 3,
   "metadata": {},
   "outputs": [
    {
     "data": {
      "text/html": [
       "<div>\n",
       "<style scoped>\n",
       "    .dataframe tbody tr th:only-of-type {\n",
       "        vertical-align: middle;\n",
       "    }\n",
       "\n",
       "    .dataframe tbody tr th {\n",
       "        vertical-align: top;\n",
       "    }\n",
       "\n",
       "    .dataframe thead th {\n",
       "        text-align: right;\n",
       "    }\n",
       "</style>\n",
       "<table border=\"1\" class=\"dataframe\">\n",
       "  <thead>\n",
       "    <tr style=\"text-align: right;\">\n",
       "      <th></th>\n",
       "      <th>Time</th>\n",
       "      <th>Power</th>\n",
       "      <th>VgA</th>\n",
       "      <th>VgB</th>\n",
       "      <th>VgC</th>\n",
       "      <th>VinA</th>\n",
       "      <th>VinB</th>\n",
       "      <th>VinC</th>\n",
       "      <th>IgA</th>\n",
       "      <th>IgB</th>\n",
       "      <th>IgC</th>\n",
       "      <th>IinA</th>\n",
       "      <th>IinB</th>\n",
       "      <th>IinC</th>\n",
       "      <th>label</th>\n",
       "    </tr>\n",
       "  </thead>\n",
       "  <tbody>\n",
       "    <tr>\n",
       "      <th>0</th>\n",
       "      <td>3.155444e-30</td>\n",
       "      <td>8.318910e-21</td>\n",
       "      <td>3.237611e-25</td>\n",
       "      <td>-282.842712</td>\n",
       "      <td>282.842712</td>\n",
       "      <td>-9.379164e-13</td>\n",
       "      <td>-0.000003</td>\n",
       "      <td>0.000003</td>\n",
       "      <td>1.161682e-09</td>\n",
       "      <td>0.005657</td>\n",
       "      <td>-0.005657</td>\n",
       "      <td>1.161682e-09</td>\n",
       "      <td>0.005657</td>\n",
       "      <td>-0.005657</td>\n",
       "      <td>1</td>\n",
       "    </tr>\n",
       "    <tr>\n",
       "      <th>1</th>\n",
       "      <td>6.310887e-30</td>\n",
       "      <td>1.663782e-20</td>\n",
       "      <td>6.475222e-25</td>\n",
       "      <td>-282.842712</td>\n",
       "      <td>282.842712</td>\n",
       "      <td>-9.379164e-13</td>\n",
       "      <td>-0.000003</td>\n",
       "      <td>0.000003</td>\n",
       "      <td>1.161682e-09</td>\n",
       "      <td>0.005657</td>\n",
       "      <td>-0.005657</td>\n",
       "      <td>1.161682e-09</td>\n",
       "      <td>0.005657</td>\n",
       "      <td>-0.005657</td>\n",
       "      <td>1</td>\n",
       "    </tr>\n",
       "    <tr>\n",
       "      <th>2</th>\n",
       "      <td>8.005795e-10</td>\n",
       "      <td>2.110619e+00</td>\n",
       "      <td>8.214265e-05</td>\n",
       "      <td>-282.842754</td>\n",
       "      <td>282.842671</td>\n",
       "      <td>4.263256e-14</td>\n",
       "      <td>-0.000007</td>\n",
       "      <td>0.000007</td>\n",
       "      <td>1.748144e-18</td>\n",
       "      <td>0.013657</td>\n",
       "      <td>-0.013657</td>\n",
       "      <td>3.469447e-18</td>\n",
       "      <td>0.013657</td>\n",
       "      <td>-0.013657</td>\n",
       "      <td>1</td>\n",
       "    </tr>\n",
       "    <tr>\n",
       "      <th>3</th>\n",
       "      <td>8.005795e-10</td>\n",
       "      <td>2.110619e+00</td>\n",
       "      <td>8.214265e-05</td>\n",
       "      <td>-282.842754</td>\n",
       "      <td>282.842671</td>\n",
       "      <td>4.263256e-14</td>\n",
       "      <td>-0.000007</td>\n",
       "      <td>0.000007</td>\n",
       "      <td>8.807554e-19</td>\n",
       "      <td>0.013657</td>\n",
       "      <td>-0.013657</td>\n",
       "      <td>0.000000e+00</td>\n",
       "      <td>0.013657</td>\n",
       "      <td>-0.013657</td>\n",
       "      <td>1</td>\n",
       "    </tr>\n",
       "    <tr>\n",
       "      <th>4</th>\n",
       "      <td>8.090741e-10</td>\n",
       "      <td>2.133014e+00</td>\n",
       "      <td>8.301422e-05</td>\n",
       "      <td>-282.842754</td>\n",
       "      <td>282.842671</td>\n",
       "      <td>5.684342e-14</td>\n",
       "      <td>-0.000007</td>\n",
       "      <td>0.000007</td>\n",
       "      <td>-2.478248e-11</td>\n",
       "      <td>0.013742</td>\n",
       "      <td>-0.013742</td>\n",
       "      <td>-2.478248e-11</td>\n",
       "      <td>0.013742</td>\n",
       "      <td>-0.013742</td>\n",
       "      <td>1</td>\n",
       "    </tr>\n",
       "  </tbody>\n",
       "</table>\n",
       "</div>"
      ],
      "text/plain": [
       "           Time         Power           VgA         VgB         VgC  \\\n",
       "0  3.155444e-30  8.318910e-21  3.237611e-25 -282.842712  282.842712   \n",
       "1  6.310887e-30  1.663782e-20  6.475222e-25 -282.842712  282.842712   \n",
       "2  8.005795e-10  2.110619e+00  8.214265e-05 -282.842754  282.842671   \n",
       "3  8.005795e-10  2.110619e+00  8.214265e-05 -282.842754  282.842671   \n",
       "4  8.090741e-10  2.133014e+00  8.301422e-05 -282.842754  282.842671   \n",
       "\n",
       "           VinA      VinB      VinC           IgA       IgB       IgC  \\\n",
       "0 -9.379164e-13 -0.000003  0.000003  1.161682e-09  0.005657 -0.005657   \n",
       "1 -9.379164e-13 -0.000003  0.000003  1.161682e-09  0.005657 -0.005657   \n",
       "2  4.263256e-14 -0.000007  0.000007  1.748144e-18  0.013657 -0.013657   \n",
       "3  4.263256e-14 -0.000007  0.000007  8.807554e-19  0.013657 -0.013657   \n",
       "4  5.684342e-14 -0.000007  0.000007 -2.478248e-11  0.013742 -0.013742   \n",
       "\n",
       "           IinA      IinB      IinC  label  \n",
       "0  1.161682e-09  0.005657 -0.005657      1  \n",
       "1  1.161682e-09  0.005657 -0.005657      1  \n",
       "2  3.469447e-18  0.013657 -0.013657      1  \n",
       "3  0.000000e+00  0.013657 -0.013657      1  \n",
       "4 -2.478248e-11  0.013742 -0.013742      1  "
      ]
     },
     "execution_count": 3,
     "metadata": {},
     "output_type": "execute_result"
    }
   ],
   "source": [
    "df = pd.read_csv('SIM_good_data.csv')\n",
    "df.head()"
   ]
  },
  {
   "cell_type": "code",
   "execution_count": 4,
   "metadata": {},
   "outputs": [],
   "source": [
    "# Define the new column names\n",
    "column_names = ['Time', 'Power', 'VgA', 'VgB', 'VgC', 'VinA','VinB','VinC','IgA','IgB','IgC','IinA','IinB','IinC']  # Modify this list based on your specific columns\n",
    "\n",
    "# Assign the new column names to the DataFrame\n",
    "df.columns = column_names\n",
    "\n",
    "# Insert a new column named 'label' with value 1 for every row\n",
    "df['label'] = 1\n",
    "\n",
    "# Save the DataFrame back to a CSV file with the new column names\n",
    "df.to_csv('SIM_Good_Data.csv', index=False)\n"
   ]
  },
  {
   "cell_type": "code",
   "execution_count": 4,
   "metadata": {},
   "outputs": [],
   "source": [
    "df1 = pd.read_csv('SIM_bad_data.csv')"
   ]
  },
  {
   "cell_type": "code",
   "execution_count": 7,
   "metadata": {},
   "outputs": [],
   "source": [
    "# Define the new column names\n",
    "column_names = ['Time', 'Power', 'VgA', 'VgB', 'VgC', 'VinA','VinB','VinC','IgA','IgB','IgC','IinA','IinB','IinC','label']  # Modify this list based on your specific columns\n",
    "\n",
    "# Assign the new column names to the DataFrame\n",
    "df1.columns = column_names\n",
    "\n",
    "# Insert a new column named 'label' with value 0 for every row\n",
    "df1['label'] = 0\n",
    "\n",
    "# Save the DataFrame back to a CSV file with the new column names\n",
    "df1.to_csv('SIM_bad_data.csv', index=False)\n"
   ]
  },
  {
   "cell_type": "markdown",
   "metadata": {},
   "source": [
    "Merging Good & Bad Simulation Data"
   ]
  },
  {
   "cell_type": "code",
   "execution_count": 10,
   "metadata": {},
   "outputs": [],
   "source": [
    "# Concatenate the two dataframes\n",
    "combined_df = pd.concat([df, df1], ignore_index=True)\n",
    "\n",
    "# Shuffle the rows randomly\n",
    "shuffled_df = combined_df.sample(frac=1).reset_index(drop=True)\n",
    "\n",
    "# Save the result to a new CSV file\n",
    "shuffled_df.to_csv('Combined_SIM_data.csv', index=False)\n"
   ]
  },
  {
   "cell_type": "markdown",
   "metadata": {},
   "source": [
    "Model Training"
   ]
  },
  {
   "cell_type": "code",
   "execution_count": 4,
   "metadata": {},
   "outputs": [],
   "source": [
    "data = pd.read_csv('Combined_SIM_data.csv')"
   ]
  },
  {
   "cell_type": "code",
   "execution_count": 5,
   "metadata": {},
   "outputs": [],
   "source": [
    "useful_data = data.iloc[0:200000,:]"
   ]
  },
  {
   "cell_type": "code",
   "execution_count": 6,
   "metadata": {},
   "outputs": [],
   "source": [
    "X = useful_data.iloc[:,:-1]\n",
    "y = useful_data.iloc[:,-1]"
   ]
  },
  {
   "cell_type": "code",
   "execution_count": 7,
   "metadata": {},
   "outputs": [
    {
     "data": {
      "text/html": [
       "<div>\n",
       "<style scoped>\n",
       "    .dataframe tbody tr th:only-of-type {\n",
       "        vertical-align: middle;\n",
       "    }\n",
       "\n",
       "    .dataframe tbody tr th {\n",
       "        vertical-align: top;\n",
       "    }\n",
       "\n",
       "    .dataframe thead th {\n",
       "        text-align: right;\n",
       "    }\n",
       "</style>\n",
       "<table border=\"1\" class=\"dataframe\">\n",
       "  <thead>\n",
       "    <tr style=\"text-align: right;\">\n",
       "      <th></th>\n",
       "      <th>Time</th>\n",
       "      <th>Power</th>\n",
       "      <th>VgA</th>\n",
       "      <th>VgB</th>\n",
       "      <th>VgC</th>\n",
       "      <th>VinA</th>\n",
       "      <th>VinB</th>\n",
       "      <th>VinC</th>\n",
       "      <th>IgA</th>\n",
       "      <th>IgB</th>\n",
       "      <th>IgC</th>\n",
       "      <th>IinA</th>\n",
       "      <th>IinB</th>\n",
       "      <th>IinC</th>\n",
       "    </tr>\n",
       "  </thead>\n",
       "  <tbody>\n",
       "    <tr>\n",
       "      <th>0</th>\n",
       "      <td>0.173941</td>\n",
       "      <td>3.043324e+06</td>\n",
       "      <td>-308.680963</td>\n",
       "      <td>246.736624</td>\n",
       "      <td>61.944339</td>\n",
       "      <td>-411.129376</td>\n",
       "      <td>827.914886</td>\n",
       "      <td>-416.785510</td>\n",
       "      <td>-5212.224810</td>\n",
       "      <td>4768.315310</td>\n",
       "      <td>443.909500</td>\n",
       "      <td>-5212.224810</td>\n",
       "      <td>4768.315310</td>\n",
       "      <td>443.909500</td>\n",
       "    </tr>\n",
       "    <tr>\n",
       "      <th>1</th>\n",
       "      <td>0.319073</td>\n",
       "      <td>3.035451e+06</td>\n",
       "      <td>-93.796342</td>\n",
       "      <td>-224.029282</td>\n",
       "      <td>317.825624</td>\n",
       "      <td>2.367131</td>\n",
       "      <td>3.684845</td>\n",
       "      <td>-6.051976</td>\n",
       "      <td>-2367.130703</td>\n",
       "      <td>-3684.845344</td>\n",
       "      <td>6051.976047</td>\n",
       "      <td>-2367.130703</td>\n",
       "      <td>-3684.845344</td>\n",
       "      <td>6051.976047</td>\n",
       "    </tr>\n",
       "    <tr>\n",
       "      <th>2</th>\n",
       "      <td>1.613431</td>\n",
       "      <td>3.041874e+06</td>\n",
       "      <td>-287.742674</td>\n",
       "      <td>277.673860</td>\n",
       "      <td>10.068814</td>\n",
       "      <td>-231.066591</td>\n",
       "      <td>466.763157</td>\n",
       "      <td>-235.696566</td>\n",
       "      <td>-4869.774045</td>\n",
       "      <td>5109.572542</td>\n",
       "      <td>-239.798497</td>\n",
       "      <td>-4869.774045</td>\n",
       "      <td>5109.572542</td>\n",
       "      <td>-239.798497</td>\n",
       "    </tr>\n",
       "    <tr>\n",
       "      <th>3</th>\n",
       "      <td>1.755009</td>\n",
       "      <td>3.044931e+06</td>\n",
       "      <td>-326.597461</td>\n",
       "      <td>162.541292</td>\n",
       "      <td>164.056169</td>\n",
       "      <td>-222.528399</td>\n",
       "      <td>-231.867370</td>\n",
       "      <td>454.395769</td>\n",
       "      <td>-5977.658833</td>\n",
       "      <td>3361.312421</td>\n",
       "      <td>2616.346413</td>\n",
       "      <td>-5977.658833</td>\n",
       "      <td>3361.312421</td>\n",
       "      <td>2616.346413</td>\n",
       "    </tr>\n",
       "    <tr>\n",
       "      <th>4</th>\n",
       "      <td>1.532222</td>\n",
       "      <td>3.042879e+06</td>\n",
       "      <td>-209.937392</td>\n",
       "      <td>321.635995</td>\n",
       "      <td>-111.698603</td>\n",
       "      <td>3.450626</td>\n",
       "      <td>-5.839388</td>\n",
       "      <td>2.388762</td>\n",
       "      <td>-3450.626169</td>\n",
       "      <td>5839.387879</td>\n",
       "      <td>-2388.761709</td>\n",
       "      <td>-3450.626169</td>\n",
       "      <td>5839.387879</td>\n",
       "      <td>-2388.761709</td>\n",
       "    </tr>\n",
       "    <tr>\n",
       "      <th>...</th>\n",
       "      <td>...</td>\n",
       "      <td>...</td>\n",
       "      <td>...</td>\n",
       "      <td>...</td>\n",
       "      <td>...</td>\n",
       "      <td>...</td>\n",
       "      <td>...</td>\n",
       "      <td>...</td>\n",
       "      <td>...</td>\n",
       "      <td>...</td>\n",
       "      <td>...</td>\n",
       "      <td>...</td>\n",
       "      <td>...</td>\n",
       "      <td>...</td>\n",
       "    </tr>\n",
       "    <tr>\n",
       "      <th>199995</th>\n",
       "      <td>1.715783</td>\n",
       "      <td>3.045083e+06</td>\n",
       "      <td>-316.779008</td>\n",
       "      <td>89.554229</td>\n",
       "      <td>227.224779</td>\n",
       "      <td>-460.683029</td>\n",
       "      <td>231.236358</td>\n",
       "      <td>229.446672</td>\n",
       "      <td>-5925.869340</td>\n",
       "      <td>2068.091792</td>\n",
       "      <td>3857.777548</td>\n",
       "      <td>-5925.869340</td>\n",
       "      <td>2068.091792</td>\n",
       "      <td>3857.777548</td>\n",
       "    </tr>\n",
       "    <tr>\n",
       "      <th>199996</th>\n",
       "      <td>0.402264</td>\n",
       "      <td>3.037630e+06</td>\n",
       "      <td>213.203616</td>\n",
       "      <td>-320.863712</td>\n",
       "      <td>107.660096</td>\n",
       "      <td>364.854294</td>\n",
       "      <td>-730.654823</td>\n",
       "      <td>365.800529</td>\n",
       "      <td>3555.306295</td>\n",
       "      <td>-6164.377291</td>\n",
       "      <td>2609.070997</td>\n",
       "      <td>3555.306295</td>\n",
       "      <td>-6164.377291</td>\n",
       "      <td>2609.070997</td>\n",
       "    </tr>\n",
       "    <tr>\n",
       "      <th>199997</th>\n",
       "      <td>1.138466</td>\n",
       "      <td>3.044986e+06</td>\n",
       "      <td>-151.379339</td>\n",
       "      <td>-174.935992</td>\n",
       "      <td>326.315330</td>\n",
       "      <td>3.158094</td>\n",
       "      <td>2.797750</td>\n",
       "      <td>-5.955844</td>\n",
       "      <td>-3158.093911</td>\n",
       "      <td>-2797.750093</td>\n",
       "      <td>5955.844004</td>\n",
       "      <td>-3158.093911</td>\n",
       "      <td>-2797.750093</td>\n",
       "      <td>5955.844004</td>\n",
       "    </tr>\n",
       "    <tr>\n",
       "      <th>199998</th>\n",
       "      <td>1.311359</td>\n",
       "      <td>3.044803e+06</td>\n",
       "      <td>-135.281545</td>\n",
       "      <td>325.078489</td>\n",
       "      <td>-189.796944</td>\n",
       "      <td>-254.620343</td>\n",
       "      <td>507.401164</td>\n",
       "      <td>-252.780821</td>\n",
       "      <td>-2135.983344</td>\n",
       "      <td>6111.488638</td>\n",
       "      <td>-3975.505294</td>\n",
       "      <td>-2135.983344</td>\n",
       "      <td>6111.488638</td>\n",
       "      <td>-3975.505294</td>\n",
       "    </tr>\n",
       "    <tr>\n",
       "      <th>199999</th>\n",
       "      <td>1.800507</td>\n",
       "      <td>3.041844e+06</td>\n",
       "      <td>51.827591</td>\n",
       "      <td>-305.172503</td>\n",
       "      <td>253.344912</td>\n",
       "      <td>226.646803</td>\n",
       "      <td>-449.168416</td>\n",
       "      <td>222.521614</td>\n",
       "      <td>691.073600</td>\n",
       "      <td>-5507.336465</td>\n",
       "      <td>4816.262864</td>\n",
       "      <td>691.073600</td>\n",
       "      <td>-5507.336465</td>\n",
       "      <td>4816.262864</td>\n",
       "    </tr>\n",
       "  </tbody>\n",
       "</table>\n",
       "<p>200000 rows × 14 columns</p>\n",
       "</div>"
      ],
      "text/plain": [
       "            Time         Power         VgA         VgB         VgC  \\\n",
       "0       0.173941  3.043324e+06 -308.680963  246.736624   61.944339   \n",
       "1       0.319073  3.035451e+06  -93.796342 -224.029282  317.825624   \n",
       "2       1.613431  3.041874e+06 -287.742674  277.673860   10.068814   \n",
       "3       1.755009  3.044931e+06 -326.597461  162.541292  164.056169   \n",
       "4       1.532222  3.042879e+06 -209.937392  321.635995 -111.698603   \n",
       "...          ...           ...         ...         ...         ...   \n",
       "199995  1.715783  3.045083e+06 -316.779008   89.554229  227.224779   \n",
       "199996  0.402264  3.037630e+06  213.203616 -320.863712  107.660096   \n",
       "199997  1.138466  3.044986e+06 -151.379339 -174.935992  326.315330   \n",
       "199998  1.311359  3.044803e+06 -135.281545  325.078489 -189.796944   \n",
       "199999  1.800507  3.041844e+06   51.827591 -305.172503  253.344912   \n",
       "\n",
       "              VinA        VinB        VinC          IgA          IgB  \\\n",
       "0      -411.129376  827.914886 -416.785510 -5212.224810  4768.315310   \n",
       "1         2.367131    3.684845   -6.051976 -2367.130703 -3684.845344   \n",
       "2      -231.066591  466.763157 -235.696566 -4869.774045  5109.572542   \n",
       "3      -222.528399 -231.867370  454.395769 -5977.658833  3361.312421   \n",
       "4         3.450626   -5.839388    2.388762 -3450.626169  5839.387879   \n",
       "...            ...         ...         ...          ...          ...   \n",
       "199995 -460.683029  231.236358  229.446672 -5925.869340  2068.091792   \n",
       "199996  364.854294 -730.654823  365.800529  3555.306295 -6164.377291   \n",
       "199997    3.158094    2.797750   -5.955844 -3158.093911 -2797.750093   \n",
       "199998 -254.620343  507.401164 -252.780821 -2135.983344  6111.488638   \n",
       "199999  226.646803 -449.168416  222.521614   691.073600 -5507.336465   \n",
       "\n",
       "                IgC         IinA         IinB         IinC  \n",
       "0        443.909500 -5212.224810  4768.315310   443.909500  \n",
       "1       6051.976047 -2367.130703 -3684.845344  6051.976047  \n",
       "2       -239.798497 -4869.774045  5109.572542  -239.798497  \n",
       "3       2616.346413 -5977.658833  3361.312421  2616.346413  \n",
       "4      -2388.761709 -3450.626169  5839.387879 -2388.761709  \n",
       "...             ...          ...          ...          ...  \n",
       "199995  3857.777548 -5925.869340  2068.091792  3857.777548  \n",
       "199996  2609.070997  3555.306295 -6164.377291  2609.070997  \n",
       "199997  5955.844004 -3158.093911 -2797.750093  5955.844004  \n",
       "199998 -3975.505294 -2135.983344  6111.488638 -3975.505294  \n",
       "199999  4816.262864   691.073600 -5507.336465  4816.262864  \n",
       "\n",
       "[200000 rows x 14 columns]"
      ]
     },
     "execution_count": 7,
     "metadata": {},
     "output_type": "execute_result"
    }
   ],
   "source": [
    "X"
   ]
  },
  {
   "cell_type": "markdown",
   "metadata": {},
   "source": [
    "Data Exploration"
   ]
  },
  {
   "cell_type": "code",
   "execution_count": 8,
   "metadata": {},
   "outputs": [
    {
     "data": {
      "text/plain": [
       "Time     0\n",
       "Power    0\n",
       "VgA      0\n",
       "VgB      0\n",
       "VgC      0\n",
       "VinA     0\n",
       "VinB     0\n",
       "VinC     0\n",
       "IgA      0\n",
       "IgB      0\n",
       "IgC      0\n",
       "IinA     0\n",
       "IinB     0\n",
       "IinC     0\n",
       "dtype: int64"
      ]
     },
     "execution_count": 8,
     "metadata": {},
     "output_type": "execute_result"
    }
   ],
   "source": [
    "X.isnull().sum()"
   ]
  },
  {
   "cell_type": "code",
   "execution_count": 9,
   "metadata": {},
   "outputs": [
    {
     "data": {
      "text/plain": [
       "np.int64(0)"
      ]
     },
     "execution_count": 9,
     "metadata": {},
     "output_type": "execute_result"
    }
   ],
   "source": [
    "y.isnull().sum()"
   ]
  },
  {
   "cell_type": "code",
   "execution_count": 11,
   "metadata": {},
   "outputs": [
    {
     "data": {
      "text/plain": [
       "array([1, 0])"
      ]
     },
     "execution_count": 11,
     "metadata": {},
     "output_type": "execute_result"
    }
   ],
   "source": [
    "y.unique()"
   ]
  },
  {
   "cell_type": "code",
   "execution_count": 12,
   "metadata": {},
   "outputs": [
    {
     "name": "stdout",
     "output_type": "stream",
     "text": [
      "<class 'pandas.core.frame.DataFrame'>\n",
      "RangeIndex: 200000 entries, 0 to 199999\n",
      "Data columns (total 14 columns):\n",
      " #   Column  Non-Null Count   Dtype  \n",
      "---  ------  --------------   -----  \n",
      " 0   Time    200000 non-null  float64\n",
      " 1   Power   200000 non-null  float64\n",
      " 2   VgA     200000 non-null  float64\n",
      " 3   VgB     200000 non-null  float64\n",
      " 4   VgC     200000 non-null  float64\n",
      " 5   VinA    200000 non-null  float64\n",
      " 6   VinB    200000 non-null  float64\n",
      " 7   VinC    200000 non-null  float64\n",
      " 8   IgA     200000 non-null  float64\n",
      " 9   IgB     200000 non-null  float64\n",
      " 10  IgC     200000 non-null  float64\n",
      " 11  IinA    200000 non-null  float64\n",
      " 12  IinB    200000 non-null  float64\n",
      " 13  IinC    200000 non-null  float64\n",
      "dtypes: float64(14)\n",
      "memory usage: 21.4 MB\n"
     ]
    }
   ],
   "source": [
    "X.info()"
   ]
  },
  {
   "cell_type": "code",
   "execution_count": 13,
   "metadata": {},
   "outputs": [
    {
     "name": "stdout",
     "output_type": "stream",
     "text": [
      "<class 'pandas.core.series.Series'>\n",
      "RangeIndex: 200000 entries, 0 to 199999\n",
      "Series name: label\n",
      "Non-Null Count   Dtype\n",
      "--------------   -----\n",
      "200000 non-null  int64\n",
      "dtypes: int64(1)\n",
      "memory usage: 1.5 MB\n"
     ]
    }
   ],
   "source": [
    "y.info()"
   ]
  },
  {
   "cell_type": "code",
   "execution_count": 14,
   "metadata": {},
   "outputs": [
    {
     "data": {
      "text/plain": [
       "80000"
      ]
     },
     "execution_count": 14,
     "metadata": {},
     "output_type": "execute_result"
    }
   ],
   "source": [
    "len(data[data['label'] == 0])"
   ]
  },
  {
   "cell_type": "code",
   "execution_count": 15,
   "metadata": {},
   "outputs": [
    {
     "name": "stdout",
     "output_type": "stream",
     "text": [
      "(200000, 14)\n",
      "(200000,)\n"
     ]
    }
   ],
   "source": [
    "print(X.shape)\n",
    "print(y.shape)"
   ]
  },
  {
   "cell_type": "markdown",
   "metadata": {},
   "source": [
    "Data Preprocessing"
   ]
  },
  {
   "cell_type": "code",
   "execution_count": 16,
   "metadata": {},
   "outputs": [],
   "source": [
    "from sklearn.preprocessing import StandardScaler, MinMaxScaler\n",
    "\n",
    "# Assuming X is your feature matrix\n",
    "scaler = StandardScaler()  # or MinMaxScaler(feature_range=(0, 1))\n",
    "\n",
    "# Normalize your features\n",
    "X_scaled = scaler.fit_transform(X)\n",
    "\n",
    "# Split into training and test sets\n",
    "from sklearn.model_selection import train_test_split\n",
    "X_train, X_test, y_train, y_test = train_test_split(X_scaled, y, test_size=0.3, random_state=42)\n"
   ]
  },
  {
   "cell_type": "markdown",
   "metadata": {},
   "source": [
    "Handling Data Imbalancy"
   ]
  },
  {
   "cell_type": "code",
   "execution_count": 17,
   "metadata": {},
   "outputs": [],
   "source": [
    "from imblearn.combine import SMOTETomek\n",
    "from imblearn.under_sampling import TomekLinks\n",
    "\n",
    "# Apply SMOTE combined with Tomek Links to balance the data\n",
    "# smote_tomek = SMOTETomek(sampling_strategy='auto', random_state=42)\n",
    "# X_train_resampled, y_train_resampled = smote_tomek.fit_resample(X_train, y_train)\n",
    "\n",
    "# Now X_train_resampled and y_train_resampled are more balanced\n",
    "# Adjust the sampling strategy to control the balance\n",
    "smote_tomek = SMOTETomek(sampling_strategy={0: 80000, 1: 128034}, random_state=42)\n",
    "X_train_resampled, y_train_resampled = smote_tomek.fit_resample(X_train, y_train)\n"
   ]
  },
  {
   "cell_type": "markdown",
   "metadata": {},
   "source": [
    "Model Building"
   ]
  },
  {
   "cell_type": "code",
   "execution_count": 18,
   "metadata": {},
   "outputs": [],
   "source": [
    "from sklearn.ensemble import RandomForestClassifier\n",
    "\n",
    "# Create the Random Forest model\n",
    "rf_clf = RandomForestClassifier(n_estimators=100, class_weight='balanced', random_state=42)\n",
    "\n",
    "# Train the model on resampled data\n",
    "# rf_clf.fit(X_train_resampled, y_train_resampled)\n"
   ]
  },
  {
   "cell_type": "markdown",
   "metadata": {},
   "source": [
    "Hyperparameter Tuning"
   ]
  },
  {
   "cell_type": "code",
   "execution_count": 19,
   "metadata": {},
   "outputs": [
    {
     "name": "stderr",
     "output_type": "stream",
     "text": [
      "d:\\Power System Hackathon\\Grid\\powerenv\\Lib\\site-packages\\tqdm\\auto.py:21: TqdmWarning: IProgress not found. Please update jupyter and ipywidgets. See https://ipywidgets.readthedocs.io/en/stable/user_install.html\n",
      "  from .autonotebook import tqdm as notebook_tqdm\n"
     ]
    }
   ],
   "source": [
    "import optuna\n",
    "from sklearn.ensemble import RandomForestClassifier\n",
    "from sklearn.model_selection import cross_val_score\n",
    "from sklearn.metrics import f1_score\n",
    "from sklearn.model_selection import train_test_split\n",
    "\n",
    "# Define the objective function for Optuna\n",
    "def objective(trial):\n",
    "    # Suggest hyperparameters to optimize\n",
    "    n_estimators = trial.suggest_int('n_estimators', 50, 400)\n",
    "    max_depth = trial.suggest_int('max_depth', 5, 50)\n",
    "    min_samples_split = trial.suggest_int('min_samples_split', 2, 20)\n",
    "    min_samples_leaf = trial.suggest_int('min_samples_leaf', 1, 10)\n",
    "\n",
    "    # Initialize the RandomForest model with suggested hyperparameters\n",
    "    rf_clf = RandomForestClassifier(\n",
    "        n_estimators=n_estimators,\n",
    "        max_depth=max_depth,\n",
    "        min_samples_split=min_samples_split,\n",
    "        min_samples_leaf=min_samples_leaf,\n",
    "        random_state=42\n",
    "    )\n",
    "\n",
    "    # Use cross-validation to evaluate the model performance\n",
    "    score = cross_val_score(rf_clf, X_train_resampled, y_train_resampled, cv=3, scoring='f1').mean()\n",
    "\n",
    "    return score\n"
   ]
  },
  {
   "cell_type": "code",
   "execution_count": 20,
   "metadata": {},
   "outputs": [
    {
     "name": "stderr",
     "output_type": "stream",
     "text": [
      "[I 2024-10-10 09:24:21,122] A new study created in memory with name: no-name-0f09e36e-7a12-4c17-8941-24bbc3fa16f8\n",
      "[I 2024-10-10 09:27:17,656] Trial 0 finished with value: 0.9642149258182032 and parameters: {'n_estimators': 82, 'max_depth': 42, 'min_samples_split': 12, 'min_samples_leaf': 1}. Best is trial 0 with value: 0.9642149258182032.\n",
      "[I 2024-10-10 09:29:38,071] Trial 1 finished with value: 0.9087241945555561 and parameters: {'n_estimators': 188, 'max_depth': 6, 'min_samples_split': 12, 'min_samples_leaf': 3}. Best is trial 0 with value: 0.9642149258182032.\n",
      "[I 2024-10-10 09:42:21,992] Trial 2 finished with value: 0.9567918149853032 and parameters: {'n_estimators': 385, 'max_depth': 36, 'min_samples_split': 20, 'min_samples_leaf': 7}. Best is trial 0 with value: 0.9642149258182032.\n",
      "[I 2024-10-10 09:46:09,830] Trial 3 finished with value: 0.9555141645571488 and parameters: {'n_estimators': 121, 'max_depth': 24, 'min_samples_split': 18, 'min_samples_leaf': 3}. Best is trial 0 with value: 0.9642149258182032.\n",
      "[I 2024-10-10 09:48:25,213] Trial 4 finished with value: 0.9505254482281981 and parameters: {'n_estimators': 80, 'max_depth': 19, 'min_samples_split': 15, 'min_samples_leaf': 10}. Best is trial 0 with value: 0.9642149258182032.\n",
      "[I 2024-10-10 09:50:17,547] Trial 5 finished with value: 0.9554458697675847 and parameters: {'n_estimators': 56, 'max_depth': 50, 'min_samples_split': 16, 'min_samples_leaf': 10}. Best is trial 0 with value: 0.9642149258182032.\n",
      "[I 2024-10-10 09:58:30,964] Trial 6 finished with value: 0.9645747015110778 and parameters: {'n_estimators': 217, 'max_depth': 44, 'min_samples_split': 8, 'min_samples_leaf': 3}. Best is trial 6 with value: 0.9645747015110778.\n",
      "[I 2024-10-10 10:07:22,924] Trial 7 finished with value: 0.9603699385248529 and parameters: {'n_estimators': 239, 'max_depth': 36, 'min_samples_split': 3, 'min_samples_leaf': 5}. Best is trial 6 with value: 0.9645747015110778.\n",
      "[I 2024-10-10 10:11:16,057] Trial 8 finished with value: 0.9215019870837983 and parameters: {'n_estimators': 251, 'max_depth': 7, 'min_samples_split': 19, 'min_samples_leaf': 9}. Best is trial 6 with value: 0.9645747015110778.\n",
      "[I 2024-10-10 10:13:29,756] Trial 9 finished with value: 0.946289910697291 and parameters: {'n_estimators': 89, 'max_depth': 15, 'min_samples_split': 17, 'min_samples_leaf': 4}. Best is trial 6 with value: 0.9645747015110778.\n"
     ]
    },
    {
     "name": "stdout",
     "output_type": "stream",
     "text": [
      "Best Hyperparameters:  {'n_estimators': 217, 'max_depth': 44, 'min_samples_split': 8, 'min_samples_leaf': 3}\n"
     ]
    }
   ],
   "source": [
    "# Create a study object and optimize it\n",
    "study = optuna.create_study(direction='maximize')\n",
    "study.optimize(objective, n_trials=10)  # You can set the number of trials\n",
    "\n",
    "# Best hyperparameters found\n",
    "print(\"Best Hyperparameters: \", study.best_trial.params)\n"
   ]
  },
  {
   "cell_type": "code",
   "execution_count": 21,
   "metadata": {},
   "outputs": [
    {
     "name": "stdout",
     "output_type": "stream",
     "text": [
      "F1 Score on Test Data:  0.9897763868099968\n"
     ]
    }
   ],
   "source": [
    "# Train the RandomForest model with the best hyperparameters\n",
    "best_params = study.best_trial.params\n",
    "\n",
    "best_rf_clf = RandomForestClassifier(\n",
    "    n_estimators=best_params['n_estimators'],\n",
    "    max_depth=best_params['max_depth'],\n",
    "    min_samples_split=best_params['min_samples_split'],\n",
    "    min_samples_leaf=best_params['min_samples_leaf'],\n",
    "    random_state=42\n",
    ")\n",
    "\n",
    "best_rf_clf.fit(X_train_resampled, y_train_resampled)\n",
    "\n",
    "# Evaluate the model on the test set\n",
    "y_pred = best_rf_clf.predict(X_test)\n",
    "f1 = f1_score(y_test, y_pred)\n",
    "print(\"F1 Score on Test Data: \", f1)\n"
   ]
  },
  {
   "cell_type": "markdown",
   "metadata": {},
   "source": [
    "Model Evaluation"
   ]
  },
  {
   "cell_type": "code",
   "execution_count": 22,
   "metadata": {},
   "outputs": [
    {
     "name": "stdout",
     "output_type": "stream",
     "text": [
      "              precision    recall  f1-score   support\n",
      "\n",
      "           0       0.93      0.85      0.88      5110\n",
      "           1       0.99      0.99      0.99     54890\n",
      "\n",
      "    accuracy                           0.98     60000\n",
      "   macro avg       0.96      0.92      0.94     60000\n",
      "weighted avg       0.98      0.98      0.98     60000\n",
      "\n",
      "ROC-AUC: 0.9808909617848042\n",
      "[[ 4319   791]\n",
      " [  336 54554]]\n"
     ]
    }
   ],
   "source": [
    "from sklearn.metrics import classification_report, roc_auc_score, confusion_matrix\n",
    "\n",
    "# Predictions\n",
    "y_pred = best_rf_clf.predict(X_test)\n",
    "\n",
    "# Evaluate the performance\n",
    "print(classification_report(y_test, y_pred))\n",
    "print('ROC-AUC:', roc_auc_score(y_test, best_rf_clf.predict_proba(X_test)[:, 1]))\n",
    "\n",
    "# Confusion Matrix\n",
    "print(confusion_matrix(y_test, y_pred))\n"
   ]
  },
  {
   "cell_type": "code",
   "execution_count": 23,
   "metadata": {},
   "outputs": [],
   "source": [
    "import skl2onnx\n",
    "from skl2onnx import convert_sklearn\n",
    "from skl2onnx.common.data_types import FloatTensorType\n",
    "\n",
    "# Assuming your model is a scikit-learn model\n",
    "initial_type = [('float_input', FloatTensorType([None, 14]))]\n",
    "onnx_model = convert_sklearn(best_rf_clf, initial_types=initial_type)\n",
    "\n",
    "# Save the ONNX model\n",
    "with open(\"model.onnx\", \"wb\") as f:\n",
    "    f.write(onnx_model.SerializeToString())\n"
   ]
  },
  {
   "cell_type": "code",
   "execution_count": null,
   "metadata": {},
   "outputs": [],
   "source": []
  }
 ],
 "metadata": {
  "kernelspec": {
   "display_name": "powerenv",
   "language": "python",
   "name": "python3"
  },
  "language_info": {
   "codemirror_mode": {
    "name": "ipython",
    "version": 3
   },
   "file_extension": ".py",
   "mimetype": "text/x-python",
   "name": "python",
   "nbconvert_exporter": "python",
   "pygments_lexer": "ipython3",
   "version": "3.11.7"
  }
 },
 "nbformat": 4,
 "nbformat_minor": 2
}
